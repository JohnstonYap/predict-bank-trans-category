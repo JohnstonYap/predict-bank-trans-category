{
 "cells": [
  {
   "cell_type": "code",
   "execution_count": 1,
   "metadata": {},
   "outputs": [],
   "source": [
    "import pandas as pd"
   ]
  },
  {
   "cell_type": "markdown",
   "metadata": {},
   "source": [
    "Load and Understand Data"
   ]
  },
  {
   "cell_type": "code",
   "execution_count": 3,
   "metadata": {},
   "outputs": [
    {
     "name": "stdout",
     "output_type": "stream",
     "text": [
      "   client_id  bank_id  account_id  txn_id             txn_date                                                                                                                       description  amount         category\n",
      "0          1        1           1       4  2023-09-29 00:00:00                                                                           Earnin           PAYMENT                 Donatas Danyal    20.0            Loans\n",
      "1          1        1           1       3  2023-08-14 00:00:00                                                       ONLINE TRANSFER FROM NDonatas DanyalDA O CARSON BUSINESS CHECKING 1216 1216    25.0  Transfer Credit\n",
      "2          1        1           1       5  2023-09-25 00:00:00  MONEY TRANSFER                          AUTHORIZED ON   09/25 FROM Earnin CDAEJ_B                     CA  S583269001208168   111    20.0            Loans\n",
      "3          1        1           2       1  2023-06-02 00:00:00                                                                         ONLINE TRANSFER FROM CARSON N EVERYDAY CHECKING 1216 1216    16.0  Transfer Credit\n",
      "4          1        1           2       2  2023-06-01 00:00:00                                                                         ONLINE TRANSFER FROM CARSON N EVERYDAY CHECKING 1216 1216     4.0  Transfer Credit\n",
      "   CLIENT_ID  IS_INTERESTED_INVESTMENT  IS_INTERESTED_BUILD_CREDIT  IS_INTERESTED_INCREASE_INCOME  IS_INTERESTED_PAY_OFF_DEBT  IS_INTERESTED_MANAGE_SPENDING  IS_INTERESTED_GROW_SAVINGS\n",
      "0          1                     False                       False                          False                       False                          False                       False\n",
      "1          2                     False                       False                          False                       False                          False                       False\n",
      "2          3                     False                       False                          False                       False                          False                       False\n",
      "3          4                     False                        True                           True                        True                           True                        True\n",
      "4          5                      True                       False                           True                        True                           True                       False\n"
     ]
    }
   ],
   "source": [
    "df1 = pd.read_csv(\"bank_transaction.csv\")\n",
    "df2 = pd.read_csv(\"user_profile.csv\")\n",
    "\n",
    "print(df1.head().to_string())\n",
    "print(df2.head().to_string())"
   ]
  }
 ],
 "metadata": {
  "kernelspec": {
   "display_name": "Python 3",
   "language": "python",
   "name": "python3"
  },
  "language_info": {
   "codemirror_mode": {
    "name": "ipython",
    "version": 3
   },
   "file_extension": ".py",
   "mimetype": "text/x-python",
   "name": "python",
   "nbconvert_exporter": "python",
   "pygments_lexer": "ipython3",
   "version": "3.12.2"
  }
 },
 "nbformat": 4,
 "nbformat_minor": 2
}
